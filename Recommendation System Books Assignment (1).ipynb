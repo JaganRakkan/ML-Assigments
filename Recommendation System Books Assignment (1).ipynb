{
 "cells": [
  {
   "cell_type": "code",
   "execution_count": 1,
   "metadata": {
    "ExecuteTime": {
     "end_time": "2021-01-25T12:41:36.145465Z",
     "start_time": "2021-01-25T12:41:13.883171Z"
    }
   },
   "outputs": [],
   "source": [
    "import pandas as pd\n",
    "import numpy as np"
   ]
  },
  {
   "cell_type": "code",
   "execution_count": 2,
   "metadata": {
    "ExecuteTime": {
     "end_time": "2021-01-25T12:41:36.183291Z",
     "start_time": "2021-01-25T12:41:36.145465Z"
    }
   },
   "outputs": [],
   "source": [
    "book = \"book.csv\""
   ]
  },
  {
   "cell_type": "code",
   "execution_count": 3,
   "metadata": {
    "ExecuteTime": {
     "end_time": "2021-01-25T12:41:48.197416Z",
     "start_time": "2021-01-25T12:41:36.183291Z"
    }
   },
   "outputs": [
    {
     "ename": "UnicodeDecodeError",
     "evalue": "'utf-8' codec can't decode byte 0xc3 in position 26: invalid continuation byte",
     "output_type": "error",
     "traceback": [
      "\u001b[1;31m---------------------------------------------------------------------------\u001b[0m",
      "\u001b[1;31mUnicodeDecodeError\u001b[0m                        Traceback (most recent call last)",
      "\u001b[1;32mpandas\\_libs\\parsers.pyx\u001b[0m in \u001b[0;36mpandas._libs.parsers.TextReader._convert_tokens\u001b[1;34m()\u001b[0m\n",
      "\u001b[1;32mpandas\\_libs\\parsers.pyx\u001b[0m in \u001b[0;36mpandas._libs.parsers.TextReader._convert_with_dtype\u001b[1;34m()\u001b[0m\n",
      "\u001b[1;32mpandas\\_libs\\parsers.pyx\u001b[0m in \u001b[0;36mpandas._libs.parsers.TextReader._string_convert\u001b[1;34m()\u001b[0m\n",
      "\u001b[1;32mpandas\\_libs\\parsers.pyx\u001b[0m in \u001b[0;36mpandas._libs.parsers._string_box_utf8\u001b[1;34m()\u001b[0m\n",
      "\u001b[1;31mUnicodeDecodeError\u001b[0m: 'utf-8' codec can't decode byte 0xc3 in position 26: invalid continuation byte",
      "\nDuring handling of the above exception, another exception occurred:\n",
      "\u001b[1;31mUnicodeDecodeError\u001b[0m                        Traceback (most recent call last)",
      "\u001b[1;32m<ipython-input-3-da52c45c339d>\u001b[0m in \u001b[0;36m<module>\u001b[1;34m\u001b[0m\n\u001b[1;32m----> 1\u001b[1;33m \u001b[0mbook_data\u001b[0m \u001b[1;33m=\u001b[0m \u001b[0mpd\u001b[0m\u001b[1;33m.\u001b[0m\u001b[0mread_csv\u001b[0m\u001b[1;33m(\u001b[0m\u001b[0mbook\u001b[0m\u001b[1;33m)\u001b[0m\u001b[1;33m\u001b[0m\u001b[1;33m\u001b[0m\u001b[0m\n\u001b[0m",
      "\u001b[1;32m~\\anaconda3\\lib\\site-packages\\pandas\\io\\parsers.py\u001b[0m in \u001b[0;36mparser_f\u001b[1;34m(filepath_or_buffer, sep, delimiter, header, names, index_col, usecols, squeeze, prefix, mangle_dupe_cols, dtype, engine, converters, true_values, false_values, skipinitialspace, skiprows, skipfooter, nrows, na_values, keep_default_na, na_filter, verbose, skip_blank_lines, parse_dates, infer_datetime_format, keep_date_col, date_parser, dayfirst, cache_dates, iterator, chunksize, compression, thousands, decimal, lineterminator, quotechar, quoting, doublequote, escapechar, comment, encoding, dialect, error_bad_lines, warn_bad_lines, delim_whitespace, low_memory, memory_map, float_precision)\u001b[0m\n\u001b[0;32m    674\u001b[0m         )\n\u001b[0;32m    675\u001b[0m \u001b[1;33m\u001b[0m\u001b[0m\n\u001b[1;32m--> 676\u001b[1;33m         \u001b[1;32mreturn\u001b[0m \u001b[0m_read\u001b[0m\u001b[1;33m(\u001b[0m\u001b[0mfilepath_or_buffer\u001b[0m\u001b[1;33m,\u001b[0m \u001b[0mkwds\u001b[0m\u001b[1;33m)\u001b[0m\u001b[1;33m\u001b[0m\u001b[1;33m\u001b[0m\u001b[0m\n\u001b[0m\u001b[0;32m    677\u001b[0m \u001b[1;33m\u001b[0m\u001b[0m\n\u001b[0;32m    678\u001b[0m     \u001b[0mparser_f\u001b[0m\u001b[1;33m.\u001b[0m\u001b[0m__name__\u001b[0m \u001b[1;33m=\u001b[0m \u001b[0mname\u001b[0m\u001b[1;33m\u001b[0m\u001b[1;33m\u001b[0m\u001b[0m\n",
      "\u001b[1;32m~\\anaconda3\\lib\\site-packages\\pandas\\io\\parsers.py\u001b[0m in \u001b[0;36m_read\u001b[1;34m(filepath_or_buffer, kwds)\u001b[0m\n\u001b[0;32m    452\u001b[0m \u001b[1;33m\u001b[0m\u001b[0m\n\u001b[0;32m    453\u001b[0m     \u001b[1;32mtry\u001b[0m\u001b[1;33m:\u001b[0m\u001b[1;33m\u001b[0m\u001b[1;33m\u001b[0m\u001b[0m\n\u001b[1;32m--> 454\u001b[1;33m         \u001b[0mdata\u001b[0m \u001b[1;33m=\u001b[0m \u001b[0mparser\u001b[0m\u001b[1;33m.\u001b[0m\u001b[0mread\u001b[0m\u001b[1;33m(\u001b[0m\u001b[0mnrows\u001b[0m\u001b[1;33m)\u001b[0m\u001b[1;33m\u001b[0m\u001b[1;33m\u001b[0m\u001b[0m\n\u001b[0m\u001b[0;32m    455\u001b[0m     \u001b[1;32mfinally\u001b[0m\u001b[1;33m:\u001b[0m\u001b[1;33m\u001b[0m\u001b[1;33m\u001b[0m\u001b[0m\n\u001b[0;32m    456\u001b[0m         \u001b[0mparser\u001b[0m\u001b[1;33m.\u001b[0m\u001b[0mclose\u001b[0m\u001b[1;33m(\u001b[0m\u001b[1;33m)\u001b[0m\u001b[1;33m\u001b[0m\u001b[1;33m\u001b[0m\u001b[0m\n",
      "\u001b[1;32m~\\anaconda3\\lib\\site-packages\\pandas\\io\\parsers.py\u001b[0m in \u001b[0;36mread\u001b[1;34m(self, nrows)\u001b[0m\n\u001b[0;32m   1131\u001b[0m     \u001b[1;32mdef\u001b[0m \u001b[0mread\u001b[0m\u001b[1;33m(\u001b[0m\u001b[0mself\u001b[0m\u001b[1;33m,\u001b[0m \u001b[0mnrows\u001b[0m\u001b[1;33m=\u001b[0m\u001b[1;32mNone\u001b[0m\u001b[1;33m)\u001b[0m\u001b[1;33m:\u001b[0m\u001b[1;33m\u001b[0m\u001b[1;33m\u001b[0m\u001b[0m\n\u001b[0;32m   1132\u001b[0m         \u001b[0mnrows\u001b[0m \u001b[1;33m=\u001b[0m \u001b[0m_validate_integer\u001b[0m\u001b[1;33m(\u001b[0m\u001b[1;34m\"nrows\"\u001b[0m\u001b[1;33m,\u001b[0m \u001b[0mnrows\u001b[0m\u001b[1;33m)\u001b[0m\u001b[1;33m\u001b[0m\u001b[1;33m\u001b[0m\u001b[0m\n\u001b[1;32m-> 1133\u001b[1;33m         \u001b[0mret\u001b[0m \u001b[1;33m=\u001b[0m \u001b[0mself\u001b[0m\u001b[1;33m.\u001b[0m\u001b[0m_engine\u001b[0m\u001b[1;33m.\u001b[0m\u001b[0mread\u001b[0m\u001b[1;33m(\u001b[0m\u001b[0mnrows\u001b[0m\u001b[1;33m)\u001b[0m\u001b[1;33m\u001b[0m\u001b[1;33m\u001b[0m\u001b[0m\n\u001b[0m\u001b[0;32m   1134\u001b[0m \u001b[1;33m\u001b[0m\u001b[0m\n\u001b[0;32m   1135\u001b[0m         \u001b[1;31m# May alter columns / col_dict\u001b[0m\u001b[1;33m\u001b[0m\u001b[1;33m\u001b[0m\u001b[1;33m\u001b[0m\u001b[0m\n",
      "\u001b[1;32m~\\anaconda3\\lib\\site-packages\\pandas\\io\\parsers.py\u001b[0m in \u001b[0;36mread\u001b[1;34m(self, nrows)\u001b[0m\n\u001b[0;32m   2035\u001b[0m     \u001b[1;32mdef\u001b[0m \u001b[0mread\u001b[0m\u001b[1;33m(\u001b[0m\u001b[0mself\u001b[0m\u001b[1;33m,\u001b[0m \u001b[0mnrows\u001b[0m\u001b[1;33m=\u001b[0m\u001b[1;32mNone\u001b[0m\u001b[1;33m)\u001b[0m\u001b[1;33m:\u001b[0m\u001b[1;33m\u001b[0m\u001b[1;33m\u001b[0m\u001b[0m\n\u001b[0;32m   2036\u001b[0m         \u001b[1;32mtry\u001b[0m\u001b[1;33m:\u001b[0m\u001b[1;33m\u001b[0m\u001b[1;33m\u001b[0m\u001b[0m\n\u001b[1;32m-> 2037\u001b[1;33m             \u001b[0mdata\u001b[0m \u001b[1;33m=\u001b[0m \u001b[0mself\u001b[0m\u001b[1;33m.\u001b[0m\u001b[0m_reader\u001b[0m\u001b[1;33m.\u001b[0m\u001b[0mread\u001b[0m\u001b[1;33m(\u001b[0m\u001b[0mnrows\u001b[0m\u001b[1;33m)\u001b[0m\u001b[1;33m\u001b[0m\u001b[1;33m\u001b[0m\u001b[0m\n\u001b[0m\u001b[0;32m   2038\u001b[0m         \u001b[1;32mexcept\u001b[0m \u001b[0mStopIteration\u001b[0m\u001b[1;33m:\u001b[0m\u001b[1;33m\u001b[0m\u001b[1;33m\u001b[0m\u001b[0m\n\u001b[0;32m   2039\u001b[0m             \u001b[1;32mif\u001b[0m \u001b[0mself\u001b[0m\u001b[1;33m.\u001b[0m\u001b[0m_first_chunk\u001b[0m\u001b[1;33m:\u001b[0m\u001b[1;33m\u001b[0m\u001b[1;33m\u001b[0m\u001b[0m\n",
      "\u001b[1;32mpandas\\_libs\\parsers.pyx\u001b[0m in \u001b[0;36mpandas._libs.parsers.TextReader.read\u001b[1;34m()\u001b[0m\n",
      "\u001b[1;32mpandas\\_libs\\parsers.pyx\u001b[0m in \u001b[0;36mpandas._libs.parsers.TextReader._read_low_memory\u001b[1;34m()\u001b[0m\n",
      "\u001b[1;32mpandas\\_libs\\parsers.pyx\u001b[0m in \u001b[0;36mpandas._libs.parsers.TextReader._read_rows\u001b[1;34m()\u001b[0m\n",
      "\u001b[1;32mpandas\\_libs\\parsers.pyx\u001b[0m in \u001b[0;36mpandas._libs.parsers.TextReader._convert_column_data\u001b[1;34m()\u001b[0m\n",
      "\u001b[1;32mpandas\\_libs\\parsers.pyx\u001b[0m in \u001b[0;36mpandas._libs.parsers.TextReader._convert_tokens\u001b[1;34m()\u001b[0m\n",
      "\u001b[1;32mpandas\\_libs\\parsers.pyx\u001b[0m in \u001b[0;36mpandas._libs.parsers.TextReader._convert_with_dtype\u001b[1;34m()\u001b[0m\n",
      "\u001b[1;32mpandas\\_libs\\parsers.pyx\u001b[0m in \u001b[0;36mpandas._libs.parsers.TextReader._string_convert\u001b[1;34m()\u001b[0m\n",
      "\u001b[1;32mpandas\\_libs\\parsers.pyx\u001b[0m in \u001b[0;36mpandas._libs.parsers._string_box_utf8\u001b[1;34m()\u001b[0m\n",
      "\u001b[1;31mUnicodeDecodeError\u001b[0m: 'utf-8' codec can't decode byte 0xc3 in position 26: invalid continuation byte"
     ]
    }
   ],
   "source": [
    "book_data = pd.read_csv(book)"
   ]
  },
  {
   "cell_type": "code",
   "execution_count": 4,
   "metadata": {
    "ExecuteTime": {
     "end_time": "2021-01-25T12:44:33.839192Z",
     "start_time": "2021-01-25T12:44:30.440391Z"
    }
   },
   "outputs": [
    {
     "data": {
      "text/plain": [
       "{'encoding': 'ISO-8859-1', 'confidence': 0.7171222254531355, 'language': ''}"
      ]
     },
     "execution_count": 4,
     "metadata": {},
     "output_type": "execute_result"
    }
   ],
   "source": [
    "import chardet\n",
    "with open(book, 'rb') as rawdata:\n",
    "    result = chardet.detect(rawdata.read(100000))\n",
    "result"
   ]
  },
  {
   "cell_type": "code",
   "execution_count": 5,
   "metadata": {
    "ExecuteTime": {
     "end_time": "2021-01-25T12:44:36.280847Z",
     "start_time": "2021-01-25T12:44:35.571379Z"
    }
   },
   "outputs": [
    {
     "data": {
      "text/html": [
       "<div>\n",
       "<style scoped>\n",
       "    .dataframe tbody tr th:only-of-type {\n",
       "        vertical-align: middle;\n",
       "    }\n",
       "\n",
       "    .dataframe tbody tr th {\n",
       "        vertical-align: top;\n",
       "    }\n",
       "\n",
       "    .dataframe thead th {\n",
       "        text-align: right;\n",
       "    }\n",
       "</style>\n",
       "<table border=\"1\" class=\"dataframe\">\n",
       "  <thead>\n",
       "    <tr style=\"text-align: right;\">\n",
       "      <th></th>\n",
       "      <th>Unnamed: 0</th>\n",
       "      <th>User.ID</th>\n",
       "      <th>Book.Title</th>\n",
       "      <th>Book.Rating</th>\n",
       "    </tr>\n",
       "  </thead>\n",
       "  <tbody>\n",
       "    <tr>\n",
       "      <th>0</th>\n",
       "      <td>1</td>\n",
       "      <td>276726</td>\n",
       "      <td>Classical Mythology</td>\n",
       "      <td>5</td>\n",
       "    </tr>\n",
       "    <tr>\n",
       "      <th>1</th>\n",
       "      <td>2</td>\n",
       "      <td>276729</td>\n",
       "      <td>Clara Callan</td>\n",
       "      <td>3</td>\n",
       "    </tr>\n",
       "    <tr>\n",
       "      <th>2</th>\n",
       "      <td>3</td>\n",
       "      <td>276729</td>\n",
       "      <td>Decision in Normandy</td>\n",
       "      <td>6</td>\n",
       "    </tr>\n",
       "    <tr>\n",
       "      <th>3</th>\n",
       "      <td>4</td>\n",
       "      <td>276736</td>\n",
       "      <td>Flu: The Story of the Great Influenza Pandemic...</td>\n",
       "      <td>8</td>\n",
       "    </tr>\n",
       "    <tr>\n",
       "      <th>4</th>\n",
       "      <td>5</td>\n",
       "      <td>276737</td>\n",
       "      <td>The Mummies of Urumchi</td>\n",
       "      <td>6</td>\n",
       "    </tr>\n",
       "    <tr>\n",
       "      <th>...</th>\n",
       "      <td>...</td>\n",
       "      <td>...</td>\n",
       "      <td>...</td>\n",
       "      <td>...</td>\n",
       "    </tr>\n",
       "    <tr>\n",
       "      <th>9995</th>\n",
       "      <td>9996</td>\n",
       "      <td>162121</td>\n",
       "      <td>American Fried: Adventures of a Happy Eater.</td>\n",
       "      <td>7</td>\n",
       "    </tr>\n",
       "    <tr>\n",
       "      <th>9996</th>\n",
       "      <td>9997</td>\n",
       "      <td>162121</td>\n",
       "      <td>Cannibal In Manhattan</td>\n",
       "      <td>9</td>\n",
       "    </tr>\n",
       "    <tr>\n",
       "      <th>9997</th>\n",
       "      <td>9998</td>\n",
       "      <td>162121</td>\n",
       "      <td>How to Flirt: A Practical Guide</td>\n",
       "      <td>7</td>\n",
       "    </tr>\n",
       "    <tr>\n",
       "      <th>9998</th>\n",
       "      <td>9999</td>\n",
       "      <td>162121</td>\n",
       "      <td>Twilight</td>\n",
       "      <td>8</td>\n",
       "    </tr>\n",
       "    <tr>\n",
       "      <th>9999</th>\n",
       "      <td>10000</td>\n",
       "      <td>162129</td>\n",
       "      <td>Kids Say the Darndest Things</td>\n",
       "      <td>6</td>\n",
       "    </tr>\n",
       "  </tbody>\n",
       "</table>\n",
       "<p>10000 rows × 4 columns</p>\n",
       "</div>"
      ],
      "text/plain": [
       "      Unnamed: 0  User.ID                                         Book.Title  \\\n",
       "0              1   276726                                Classical Mythology   \n",
       "1              2   276729                                       Clara Callan   \n",
       "2              3   276729                               Decision in Normandy   \n",
       "3              4   276736  Flu: The Story of the Great Influenza Pandemic...   \n",
       "4              5   276737                             The Mummies of Urumchi   \n",
       "...          ...      ...                                                ...   \n",
       "9995        9996   162121       American Fried: Adventures of a Happy Eater.   \n",
       "9996        9997   162121                              Cannibal In Manhattan   \n",
       "9997        9998   162121                    How to Flirt: A Practical Guide   \n",
       "9998        9999   162121                                           Twilight   \n",
       "9999       10000   162129                       Kids Say the Darndest Things   \n",
       "\n",
       "      Book.Rating  \n",
       "0               5  \n",
       "1               3  \n",
       "2               6  \n",
       "3               8  \n",
       "4               6  \n",
       "...           ...  \n",
       "9995            7  \n",
       "9996            9  \n",
       "9997            7  \n",
       "9998            8  \n",
       "9999            6  \n",
       "\n",
       "[10000 rows x 4 columns]"
      ]
     },
     "execution_count": 5,
     "metadata": {},
     "output_type": "execute_result"
    }
   ],
   "source": [
    "book_data = pd.read_csv(book,encoding='ISO-8859-1')\n",
    "book_data"
   ]
  },
  {
   "cell_type": "code",
   "execution_count": 6,
   "metadata": {
    "ExecuteTime": {
     "end_time": "2021-01-25T12:44:36.974091Z",
     "start_time": "2021-01-25T12:44:36.952102Z"
    }
   },
   "outputs": [
    {
     "data": {
      "text/html": [
       "<div>\n",
       "<style scoped>\n",
       "    .dataframe tbody tr th:only-of-type {\n",
       "        vertical-align: middle;\n",
       "    }\n",
       "\n",
       "    .dataframe tbody tr th {\n",
       "        vertical-align: top;\n",
       "    }\n",
       "\n",
       "    .dataframe thead th {\n",
       "        text-align: right;\n",
       "    }\n",
       "</style>\n",
       "<table border=\"1\" class=\"dataframe\">\n",
       "  <thead>\n",
       "    <tr style=\"text-align: right;\">\n",
       "      <th></th>\n",
       "      <th>Unnamed: 0</th>\n",
       "      <th>User.ID</th>\n",
       "      <th>Book.Title</th>\n",
       "      <th>Book.Rating</th>\n",
       "    </tr>\n",
       "  </thead>\n",
       "  <tbody>\n",
       "    <tr>\n",
       "      <th>0</th>\n",
       "      <td>1</td>\n",
       "      <td>276726</td>\n",
       "      <td>Classical Mythology</td>\n",
       "      <td>5</td>\n",
       "    </tr>\n",
       "    <tr>\n",
       "      <th>1</th>\n",
       "      <td>2</td>\n",
       "      <td>276729</td>\n",
       "      <td>Clara Callan</td>\n",
       "      <td>3</td>\n",
       "    </tr>\n",
       "    <tr>\n",
       "      <th>2</th>\n",
       "      <td>3</td>\n",
       "      <td>276729</td>\n",
       "      <td>Decision in Normandy</td>\n",
       "      <td>6</td>\n",
       "    </tr>\n",
       "    <tr>\n",
       "      <th>3</th>\n",
       "      <td>4</td>\n",
       "      <td>276736</td>\n",
       "      <td>Flu: The Story of the Great Influenza Pandemic...</td>\n",
       "      <td>8</td>\n",
       "    </tr>\n",
       "    <tr>\n",
       "      <th>4</th>\n",
       "      <td>5</td>\n",
       "      <td>276737</td>\n",
       "      <td>The Mummies of Urumchi</td>\n",
       "      <td>6</td>\n",
       "    </tr>\n",
       "  </tbody>\n",
       "</table>\n",
       "</div>"
      ],
      "text/plain": [
       "   Unnamed: 0  User.ID                                         Book.Title  \\\n",
       "0           1   276726                                Classical Mythology   \n",
       "1           2   276729                                       Clara Callan   \n",
       "2           3   276729                               Decision in Normandy   \n",
       "3           4   276736  Flu: The Story of the Great Influenza Pandemic...   \n",
       "4           5   276737                             The Mummies of Urumchi   \n",
       "\n",
       "   Book.Rating  \n",
       "0            5  \n",
       "1            3  \n",
       "2            6  \n",
       "3            8  \n",
       "4            6  "
      ]
     },
     "execution_count": 6,
     "metadata": {},
     "output_type": "execute_result"
    }
   ],
   "source": [
    "book_data[:5]"
   ]
  },
  {
   "cell_type": "code",
   "execution_count": 7,
   "metadata": {
    "ExecuteTime": {
     "end_time": "2021-01-25T12:44:37.997195Z",
     "start_time": "2021-01-25T12:44:37.820326Z"
    }
   },
   "outputs": [
    {
     "data": {
      "text/html": [
       "<div>\n",
       "<style scoped>\n",
       "    .dataframe tbody tr th:only-of-type {\n",
       "        vertical-align: middle;\n",
       "    }\n",
       "\n",
       "    .dataframe tbody tr th {\n",
       "        vertical-align: top;\n",
       "    }\n",
       "\n",
       "    .dataframe thead th {\n",
       "        text-align: right;\n",
       "    }\n",
       "</style>\n",
       "<table border=\"1\" class=\"dataframe\">\n",
       "  <thead>\n",
       "    <tr style=\"text-align: right;\">\n",
       "      <th></th>\n",
       "      <th>Unnamed: 0</th>\n",
       "      <th>userid</th>\n",
       "      <th>booktitle</th>\n",
       "      <th>rating</th>\n",
       "    </tr>\n",
       "  </thead>\n",
       "  <tbody>\n",
       "    <tr>\n",
       "      <th>0</th>\n",
       "      <td>1</td>\n",
       "      <td>276726</td>\n",
       "      <td>Classical Mythology</td>\n",
       "      <td>5</td>\n",
       "    </tr>\n",
       "    <tr>\n",
       "      <th>1</th>\n",
       "      <td>2</td>\n",
       "      <td>276729</td>\n",
       "      <td>Clara Callan</td>\n",
       "      <td>3</td>\n",
       "    </tr>\n",
       "    <tr>\n",
       "      <th>2</th>\n",
       "      <td>3</td>\n",
       "      <td>276729</td>\n",
       "      <td>Decision in Normandy</td>\n",
       "      <td>6</td>\n",
       "    </tr>\n",
       "    <tr>\n",
       "      <th>3</th>\n",
       "      <td>4</td>\n",
       "      <td>276736</td>\n",
       "      <td>Flu: The Story of the Great Influenza Pandemic...</td>\n",
       "      <td>8</td>\n",
       "    </tr>\n",
       "    <tr>\n",
       "      <th>4</th>\n",
       "      <td>5</td>\n",
       "      <td>276737</td>\n",
       "      <td>The Mummies of Urumchi</td>\n",
       "      <td>6</td>\n",
       "    </tr>\n",
       "    <tr>\n",
       "      <th>...</th>\n",
       "      <td>...</td>\n",
       "      <td>...</td>\n",
       "      <td>...</td>\n",
       "      <td>...</td>\n",
       "    </tr>\n",
       "    <tr>\n",
       "      <th>9995</th>\n",
       "      <td>9996</td>\n",
       "      <td>162121</td>\n",
       "      <td>American Fried: Adventures of a Happy Eater.</td>\n",
       "      <td>7</td>\n",
       "    </tr>\n",
       "    <tr>\n",
       "      <th>9996</th>\n",
       "      <td>9997</td>\n",
       "      <td>162121</td>\n",
       "      <td>Cannibal In Manhattan</td>\n",
       "      <td>9</td>\n",
       "    </tr>\n",
       "    <tr>\n",
       "      <th>9997</th>\n",
       "      <td>9998</td>\n",
       "      <td>162121</td>\n",
       "      <td>How to Flirt: A Practical Guide</td>\n",
       "      <td>7</td>\n",
       "    </tr>\n",
       "    <tr>\n",
       "      <th>9998</th>\n",
       "      <td>9999</td>\n",
       "      <td>162121</td>\n",
       "      <td>Twilight</td>\n",
       "      <td>8</td>\n",
       "    </tr>\n",
       "    <tr>\n",
       "      <th>9999</th>\n",
       "      <td>10000</td>\n",
       "      <td>162129</td>\n",
       "      <td>Kids Say the Darndest Things</td>\n",
       "      <td>6</td>\n",
       "    </tr>\n",
       "  </tbody>\n",
       "</table>\n",
       "<p>10000 rows × 4 columns</p>\n",
       "</div>"
      ],
      "text/plain": [
       "      Unnamed: 0  userid                                          booktitle  \\\n",
       "0              1  276726                                Classical Mythology   \n",
       "1              2  276729                                       Clara Callan   \n",
       "2              3  276729                               Decision in Normandy   \n",
       "3              4  276736  Flu: The Story of the Great Influenza Pandemic...   \n",
       "4              5  276737                             The Mummies of Urumchi   \n",
       "...          ...     ...                                                ...   \n",
       "9995        9996  162121       American Fried: Adventures of a Happy Eater.   \n",
       "9996        9997  162121                              Cannibal In Manhattan   \n",
       "9997        9998  162121                    How to Flirt: A Practical Guide   \n",
       "9998        9999  162121                                           Twilight   \n",
       "9999       10000  162129                       Kids Say the Darndest Things   \n",
       "\n",
       "      rating  \n",
       "0          5  \n",
       "1          3  \n",
       "2          6  \n",
       "3          8  \n",
       "4          6  \n",
       "...      ...  \n",
       "9995       7  \n",
       "9996       9  \n",
       "9997       7  \n",
       "9998       8  \n",
       "9999       6  \n",
       "\n",
       "[10000 rows x 4 columns]"
      ]
     },
     "execution_count": 7,
     "metadata": {},
     "output_type": "execute_result"
    }
   ],
   "source": [
    "book_data.rename(columns={'User.ID':'userid'},inplace=True)\n",
    "book_data.rename(columns={'Book.Title':'booktitle','Book.Rating':'rating'},inplace=True)\n",
    "book_data"
   ]
  },
  {
   "cell_type": "code",
   "execution_count": 36,
   "metadata": {
    "ExecuteTime": {
     "end_time": "2021-01-25T12:49:38.404897Z",
     "start_time": "2021-01-25T12:49:37.850942Z"
    }
   },
   "outputs": [
    {
     "data": {
      "text/plain": [
       "<matplotlib.axes._subplots.AxesSubplot at 0x166ca2c13d0>"
      ]
     },
     "execution_count": 36,
     "metadata": {},
     "output_type": "execute_result"
    },
    {
     "data": {
      "image/png": "[encoded data removed]",
      "text/plain": [
       "<Figure size 720x360 with 1 Axes>"
      ]
     },
     "metadata": {
      "needs_background": "light"
     },
     "output_type": "display_data"
    }
   ],
   "source": [
    "import matplotlib.pyplot as plt\n",
    "plt.figure(figsize=(10,5))\n",
    "book_data['rating'].hist(bins=40)"
   ]
  },
  {
   "cell_type": "code",
   "execution_count": 13,
   "metadata": {
    "ExecuteTime": {
     "end_time": "2021-01-25T12:46:43.135904Z",
     "start_time": "2021-01-25T12:46:43.047930Z"
    }
   },
   "outputs": [
    {
     "data": {
      "text/plain": [
       "2182"
      ]
     },
     "execution_count": 13,
     "metadata": {},
     "output_type": "execute_result"
    }
   ],
   "source": [
    "#number of unique users in the dataset\n",
    "len(book_data.userid.unique())"
   ]
  },
  {
   "cell_type": "code",
   "execution_count": 14,
   "metadata": {
    "ExecuteTime": {
     "end_time": "2021-01-25T12:46:43.945554Z",
     "start_time": "2021-01-25T12:46:43.647118Z"
    }
   },
   "outputs": [],
   "source": [
    "data = book_data.drop_duplicates()"
   ]
  },
  {
   "cell_type": "code",
   "execution_count": 15,
   "metadata": {
    "ExecuteTime": {
     "end_time": "2021-01-25T12:46:44.411550Z",
     "start_time": "2021-01-25T12:46:44.399552Z"
    }
   },
   "outputs": [
    {
     "data": {
      "text/plain": [
       "10"
      ]
     },
     "execution_count": 15,
     "metadata": {},
     "output_type": "execute_result"
    }
   ],
   "source": [
    "len(book_data.rating.unique())"
   ]
  },
  {
   "cell_type": "code",
   "execution_count": 16,
   "metadata": {
    "ExecuteTime": {
     "end_time": "2021-01-25T12:46:48.558563Z",
     "start_time": "2021-01-25T12:46:45.069063Z"
    }
   },
   "outputs": [],
   "source": [
    "user_book_dt = book_data.pivot_table(index='userid',\n",
    "                                 columns='booktitle',\n",
    "                                 values='rating').reset_index(drop=True)\n"
   ]
  },
  {
   "cell_type": "code",
   "execution_count": 17,
   "metadata": {
    "ExecuteTime": {
     "end_time": "2021-01-25T12:46:52.439718Z",
     "start_time": "2021-01-25T12:46:52.360740Z"
    }
   },
   "outputs": [
    {
     "data": {
      "text/html": [
       "<div>\n",
       "<style scoped>\n",
       "    .dataframe tbody tr th:only-of-type {\n",
       "        vertical-align: middle;\n",
       "    }\n",
       "\n",
       "    .dataframe tbody tr th {\n",
       "        vertical-align: top;\n",
       "    }\n",
       "\n",
       "    .dataframe thead th {\n",
       "        text-align: right;\n",
       "    }\n",
       "</style>\n",
       "<table border=\"1\" class=\"dataframe\">\n",
       "  <thead>\n",
       "    <tr style=\"text-align: right;\">\n",
       "      <th>booktitle</th>\n",
       "      <th>Jason, Madison &amp;amp</th>\n",
       "      <th>Other Stories;Merril;1985;McClelland &amp;amp</th>\n",
       "      <th>Repairing PC Drives &amp;amp</th>\n",
       "      <th>'48</th>\n",
       "      <th>'O Au No Keia: Voices from Hawai'I's Mahu and Transgender Communities</th>\n",
       "      <th>...AND THE HORSE HE RODE IN ON : THE PEOPLE V. KENNETH STARR</th>\n",
       "      <th>01-01-00: A Novel of the Millennium</th>\n",
       "      <th>1,401 More Things That P*Ss Me Off</th>\n",
       "      <th>10 Commandments Of Dating</th>\n",
       "      <th>100 Great Fantasy Short, Short Stories</th>\n",
       "      <th>...</th>\n",
       "      <th>Zora Hurston and the Chinaberry Tree (Reading Rainbow Book)</th>\n",
       "      <th>\\Even Monkeys Fall from Trees\\ and Other Japanese Proverbs</th>\n",
       "      <th>\\I Won't Learn from You\\: And Other Thoughts on Creative Maladjustment</th>\n",
       "      <th>\\More More More,\\ Said the Baby</th>\n",
       "      <th>\\O\\ Is for Outlaw</th>\n",
       "      <th>\\Surely You're Joking, Mr. Feynman!\\: Adventures of a Curious Character</th>\n",
       "      <th>\\Well, there's your problem\\: Cartoons</th>\n",
       "      <th>iI Paradiso Degli Orchi</th>\n",
       "      <th>stardust</th>\n",
       "      <th>Ã?Â?bermorgen.</th>\n",
       "    </tr>\n",
       "  </thead>\n",
       "  <tbody>\n",
       "    <tr>\n",
       "      <th>0</th>\n",
       "      <td>NaN</td>\n",
       "      <td>NaN</td>\n",
       "      <td>NaN</td>\n",
       "      <td>NaN</td>\n",
       "      <td>NaN</td>\n",
       "      <td>NaN</td>\n",
       "      <td>NaN</td>\n",
       "      <td>NaN</td>\n",
       "      <td>NaN</td>\n",
       "      <td>NaN</td>\n",
       "      <td>...</td>\n",
       "      <td>NaN</td>\n",
       "      <td>NaN</td>\n",
       "      <td>NaN</td>\n",
       "      <td>NaN</td>\n",
       "      <td>NaN</td>\n",
       "      <td>NaN</td>\n",
       "      <td>NaN</td>\n",
       "      <td>NaN</td>\n",
       "      <td>NaN</td>\n",
       "      <td>NaN</td>\n",
       "    </tr>\n",
       "    <tr>\n",
       "      <th>1</th>\n",
       "      <td>NaN</td>\n",
       "      <td>NaN</td>\n",
       "      <td>NaN</td>\n",
       "      <td>NaN</td>\n",
       "      <td>NaN</td>\n",
       "      <td>NaN</td>\n",
       "      <td>NaN</td>\n",
       "      <td>NaN</td>\n",
       "      <td>NaN</td>\n",
       "      <td>NaN</td>\n",
       "      <td>...</td>\n",
       "      <td>NaN</td>\n",
       "      <td>NaN</td>\n",
       "      <td>NaN</td>\n",
       "      <td>NaN</td>\n",
       "      <td>NaN</td>\n",
       "      <td>NaN</td>\n",
       "      <td>NaN</td>\n",
       "      <td>NaN</td>\n",
       "      <td>NaN</td>\n",
       "      <td>NaN</td>\n",
       "    </tr>\n",
       "    <tr>\n",
       "      <th>2</th>\n",
       "      <td>NaN</td>\n",
       "      <td>NaN</td>\n",
       "      <td>NaN</td>\n",
       "      <td>NaN</td>\n",
       "      <td>NaN</td>\n",
       "      <td>NaN</td>\n",
       "      <td>NaN</td>\n",
       "      <td>NaN</td>\n",
       "      <td>NaN</td>\n",
       "      <td>NaN</td>\n",
       "      <td>...</td>\n",
       "      <td>NaN</td>\n",
       "      <td>NaN</td>\n",
       "      <td>NaN</td>\n",
       "      <td>NaN</td>\n",
       "      <td>NaN</td>\n",
       "      <td>NaN</td>\n",
       "      <td>NaN</td>\n",
       "      <td>NaN</td>\n",
       "      <td>NaN</td>\n",
       "      <td>NaN</td>\n",
       "    </tr>\n",
       "    <tr>\n",
       "      <th>3</th>\n",
       "      <td>NaN</td>\n",
       "      <td>NaN</td>\n",
       "      <td>NaN</td>\n",
       "      <td>NaN</td>\n",
       "      <td>NaN</td>\n",
       "      <td>NaN</td>\n",
       "      <td>NaN</td>\n",
       "      <td>NaN</td>\n",
       "      <td>NaN</td>\n",
       "      <td>NaN</td>\n",
       "      <td>...</td>\n",
       "      <td>NaN</td>\n",
       "      <td>NaN</td>\n",
       "      <td>NaN</td>\n",
       "      <td>NaN</td>\n",
       "      <td>NaN</td>\n",
       "      <td>NaN</td>\n",
       "      <td>NaN</td>\n",
       "      <td>NaN</td>\n",
       "      <td>NaN</td>\n",
       "      <td>NaN</td>\n",
       "    </tr>\n",
       "    <tr>\n",
       "      <th>4</th>\n",
       "      <td>NaN</td>\n",
       "      <td>NaN</td>\n",
       "      <td>NaN</td>\n",
       "      <td>NaN</td>\n",
       "      <td>NaN</td>\n",
       "      <td>NaN</td>\n",
       "      <td>NaN</td>\n",
       "      <td>NaN</td>\n",
       "      <td>NaN</td>\n",
       "      <td>NaN</td>\n",
       "      <td>...</td>\n",
       "      <td>NaN</td>\n",
       "      <td>NaN</td>\n",
       "      <td>NaN</td>\n",
       "      <td>NaN</td>\n",
       "      <td>NaN</td>\n",
       "      <td>NaN</td>\n",
       "      <td>NaN</td>\n",
       "      <td>NaN</td>\n",
       "      <td>NaN</td>\n",
       "      <td>NaN</td>\n",
       "    </tr>\n",
       "  </tbody>\n",
       "</table>\n",
       "<p>5 rows × 9659 columns</p>\n",
       "</div>"
      ],
      "text/plain": [
       "booktitle   Jason, Madison &amp   Other Stories;Merril;1985;McClelland &amp  \\\n",
       "0                           NaN                                         NaN   \n",
       "1                           NaN                                         NaN   \n",
       "2                           NaN                                         NaN   \n",
       "3                           NaN                                         NaN   \n",
       "4                           NaN                                         NaN   \n",
       "\n",
       "booktitle   Repairing PC Drives &amp  '48  \\\n",
       "0                                NaN  NaN   \n",
       "1                                NaN  NaN   \n",
       "2                                NaN  NaN   \n",
       "3                                NaN  NaN   \n",
       "4                                NaN  NaN   \n",
       "\n",
       "booktitle  'O Au No Keia: Voices from Hawai'I's Mahu and Transgender Communities  \\\n",
       "0                                                        NaN                       \n",
       "1                                                        NaN                       \n",
       "2                                                        NaN                       \n",
       "3                                                        NaN                       \n",
       "4                                                        NaN                       \n",
       "\n",
       "booktitle  ...AND THE HORSE HE RODE IN ON : THE PEOPLE V. KENNETH STARR  \\\n",
       "0                                                        NaN              \n",
       "1                                                        NaN              \n",
       "2                                                        NaN              \n",
       "3                                                        NaN              \n",
       "4                                                        NaN              \n",
       "\n",
       "booktitle  01-01-00: A Novel of the Millennium  \\\n",
       "0                                          NaN   \n",
       "1                                          NaN   \n",
       "2                                          NaN   \n",
       "3                                          NaN   \n",
       "4                                          NaN   \n",
       "\n",
       "booktitle  1,401 More Things That P*Ss Me Off  10 Commandments Of Dating  \\\n",
       "0                                         NaN                        NaN   \n",
       "1                                         NaN                        NaN   \n",
       "2                                         NaN                        NaN   \n",
       "3                                         NaN                        NaN   \n",
       "4                                         NaN                        NaN   \n",
       "\n",
       "booktitle  100 Great Fantasy Short, Short Stories  ...  \\\n",
       "0                                             NaN  ...   \n",
       "1                                             NaN  ...   \n",
       "2                                             NaN  ...   \n",
       "3                                             NaN  ...   \n",
       "4                                             NaN  ...   \n",
       "\n",
       "booktitle  Zora Hurston and the Chinaberry Tree (Reading Rainbow Book)  \\\n",
       "0                                                        NaN             \n",
       "1                                                        NaN             \n",
       "2                                                        NaN             \n",
       "3                                                        NaN             \n",
       "4                                                        NaN             \n",
       "\n",
       "booktitle  \\Even Monkeys Fall from Trees\\ and Other Japanese Proverbs  \\\n",
       "0                                                        NaN            \n",
       "1                                                        NaN            \n",
       "2                                                        NaN            \n",
       "3                                                        NaN            \n",
       "4                                                        NaN            \n",
       "\n",
       "booktitle  \\I Won't Learn from You\\: And Other Thoughts on Creative Maladjustment  \\\n",
       "0                                                        NaN                        \n",
       "1                                                        NaN                        \n",
       "2                                                        NaN                        \n",
       "3                                                        NaN                        \n",
       "4                                                        NaN                        \n",
       "\n",
       "booktitle  \\More More More,\\ Said the Baby  \\O\\ Is for Outlaw  \\\n",
       "0                                      NaN                NaN   \n",
       "1                                      NaN                NaN   \n",
       "2                                      NaN                NaN   \n",
       "3                                      NaN                NaN   \n",
       "4                                      NaN                NaN   \n",
       "\n",
       "booktitle  \\Surely You're Joking, Mr. Feynman!\\: Adventures of a Curious Character  \\\n",
       "0                                                        NaN                         \n",
       "1                                                        NaN                         \n",
       "2                                                        NaN                         \n",
       "3                                                        NaN                         \n",
       "4                                                        NaN                         \n",
       "\n",
       "booktitle  \\Well, there's your problem\\: Cartoons  iI Paradiso Degli Orchi  \\\n",
       "0                                             NaN                      NaN   \n",
       "1                                             NaN                      NaN   \n",
       "2                                             NaN                      NaN   \n",
       "3                                             NaN                      NaN   \n",
       "4                                             NaN                      NaN   \n",
       "\n",
       "booktitle  stardust  Ã?Â?bermorgen.  \n",
       "0               NaN             NaN  \n",
       "1               NaN             NaN  \n",
       "2               NaN             NaN  \n",
       "3               NaN             NaN  \n",
       "4               NaN             NaN  \n",
       "\n",
       "[5 rows x 9659 columns]"
      ]
     },
     "execution_count": 17,
     "metadata": {},
     "output_type": "execute_result"
    }
   ],
   "source": [
    "user_book_dt.head()"
   ]
  },
  {
   "cell_type": "code",
   "execution_count": 18,
   "metadata": {
    "ExecuteTime": {
     "end_time": "2021-01-25T12:46:53.562850Z",
     "start_time": "2021-01-25T12:46:53.222077Z"
    }
   },
   "outputs": [
    {
     "data": {
      "text/html": [
       "<div>\n",
       "<style scoped>\n",
       "    .dataframe tbody tr th:only-of-type {\n",
       "        vertical-align: middle;\n",
       "    }\n",
       "\n",
       "    .dataframe tbody tr th {\n",
       "        vertical-align: top;\n",
       "    }\n",
       "\n",
       "    .dataframe thead th {\n",
       "        text-align: right;\n",
       "    }\n",
       "</style>\n",
       "<table border=\"1\" class=\"dataframe\">\n",
       "  <thead>\n",
       "    <tr style=\"text-align: right;\">\n",
       "      <th>booktitle</th>\n",
       "      <th>Jason, Madison &amp;amp</th>\n",
       "      <th>Other Stories;Merril;1985;McClelland &amp;amp</th>\n",
       "      <th>Repairing PC Drives &amp;amp</th>\n",
       "      <th>'48</th>\n",
       "      <th>'O Au No Keia: Voices from Hawai'I's Mahu and Transgender Communities</th>\n",
       "      <th>...AND THE HORSE HE RODE IN ON : THE PEOPLE V. KENNETH STARR</th>\n",
       "      <th>01-01-00: A Novel of the Millennium</th>\n",
       "      <th>1,401 More Things That P*Ss Me Off</th>\n",
       "      <th>10 Commandments Of Dating</th>\n",
       "      <th>100 Great Fantasy Short, Short Stories</th>\n",
       "      <th>...</th>\n",
       "      <th>Zora Hurston and the Chinaberry Tree (Reading Rainbow Book)</th>\n",
       "      <th>\\Even Monkeys Fall from Trees\\ and Other Japanese Proverbs</th>\n",
       "      <th>\\I Won't Learn from You\\: And Other Thoughts on Creative Maladjustment</th>\n",
       "      <th>\\More More More,\\ Said the Baby</th>\n",
       "      <th>\\O\\ Is for Outlaw</th>\n",
       "      <th>\\Surely You're Joking, Mr. Feynman!\\: Adventures of a Curious Character</th>\n",
       "      <th>\\Well, there's your problem\\: Cartoons</th>\n",
       "      <th>iI Paradiso Degli Orchi</th>\n",
       "      <th>stardust</th>\n",
       "      <th>Ã?Â?bermorgen.</th>\n",
       "    </tr>\n",
       "  </thead>\n",
       "  <tbody>\n",
       "    <tr>\n",
       "      <th>0</th>\n",
       "      <td>0.0</td>\n",
       "      <td>0.0</td>\n",
       "      <td>0.0</td>\n",
       "      <td>0.0</td>\n",
       "      <td>0.0</td>\n",
       "      <td>0.0</td>\n",
       "      <td>0.0</td>\n",
       "      <td>0.0</td>\n",
       "      <td>0.0</td>\n",
       "      <td>0.0</td>\n",
       "      <td>...</td>\n",
       "      <td>0.0</td>\n",
       "      <td>0.0</td>\n",
       "      <td>0.0</td>\n",
       "      <td>0.0</td>\n",
       "      <td>0.0</td>\n",
       "      <td>0.0</td>\n",
       "      <td>0.0</td>\n",
       "      <td>0.0</td>\n",
       "      <td>0.0</td>\n",
       "      <td>0.0</td>\n",
       "    </tr>\n",
       "    <tr>\n",
       "      <th>1</th>\n",
       "      <td>0.0</td>\n",
       "      <td>0.0</td>\n",
       "      <td>0.0</td>\n",
       "      <td>0.0</td>\n",
       "      <td>0.0</td>\n",
       "      <td>0.0</td>\n",
       "      <td>0.0</td>\n",
       "      <td>0.0</td>\n",
       "      <td>0.0</td>\n",
       "      <td>0.0</td>\n",
       "      <td>...</td>\n",
       "      <td>0.0</td>\n",
       "      <td>0.0</td>\n",
       "      <td>0.0</td>\n",
       "      <td>0.0</td>\n",
       "      <td>0.0</td>\n",
       "      <td>0.0</td>\n",
       "      <td>0.0</td>\n",
       "      <td>0.0</td>\n",
       "      <td>0.0</td>\n",
       "      <td>0.0</td>\n",
       "    </tr>\n",
       "    <tr>\n",
       "      <th>2</th>\n",
       "      <td>0.0</td>\n",
       "      <td>0.0</td>\n",
       "      <td>0.0</td>\n",
       "      <td>0.0</td>\n",
       "      <td>0.0</td>\n",
       "      <td>0.0</td>\n",
       "      <td>0.0</td>\n",
       "      <td>0.0</td>\n",
       "      <td>0.0</td>\n",
       "      <td>0.0</td>\n",
       "      <td>...</td>\n",
       "      <td>0.0</td>\n",
       "      <td>0.0</td>\n",
       "      <td>0.0</td>\n",
       "      <td>0.0</td>\n",
       "      <td>0.0</td>\n",
       "      <td>0.0</td>\n",
       "      <td>0.0</td>\n",
       "      <td>0.0</td>\n",
       "      <td>0.0</td>\n",
       "      <td>0.0</td>\n",
       "    </tr>\n",
       "    <tr>\n",
       "      <th>3</th>\n",
       "      <td>0.0</td>\n",
       "      <td>0.0</td>\n",
       "      <td>0.0</td>\n",
       "      <td>0.0</td>\n",
       "      <td>0.0</td>\n",
       "      <td>0.0</td>\n",
       "      <td>0.0</td>\n",
       "      <td>0.0</td>\n",
       "      <td>0.0</td>\n",
       "      <td>0.0</td>\n",
       "      <td>...</td>\n",
       "      <td>0.0</td>\n",
       "      <td>0.0</td>\n",
       "      <td>0.0</td>\n",
       "      <td>0.0</td>\n",
       "      <td>0.0</td>\n",
       "      <td>0.0</td>\n",
       "      <td>0.0</td>\n",
       "      <td>0.0</td>\n",
       "      <td>0.0</td>\n",
       "      <td>0.0</td>\n",
       "    </tr>\n",
       "    <tr>\n",
       "      <th>4</th>\n",
       "      <td>0.0</td>\n",
       "      <td>0.0</td>\n",
       "      <td>0.0</td>\n",
       "      <td>0.0</td>\n",
       "      <td>0.0</td>\n",
       "      <td>0.0</td>\n",
       "      <td>0.0</td>\n",
       "      <td>0.0</td>\n",
       "      <td>0.0</td>\n",
       "      <td>0.0</td>\n",
       "      <td>...</td>\n",
       "      <td>0.0</td>\n",
       "      <td>0.0</td>\n",
       "      <td>0.0</td>\n",
       "      <td>0.0</td>\n",
       "      <td>0.0</td>\n",
       "      <td>0.0</td>\n",
       "      <td>0.0</td>\n",
       "      <td>0.0</td>\n",
       "      <td>0.0</td>\n",
       "      <td>0.0</td>\n",
       "    </tr>\n",
       "    <tr>\n",
       "      <th>...</th>\n",
       "      <td>...</td>\n",
       "      <td>...</td>\n",
       "      <td>...</td>\n",
       "      <td>...</td>\n",
       "      <td>...</td>\n",
       "      <td>...</td>\n",
       "      <td>...</td>\n",
       "      <td>...</td>\n",
       "      <td>...</td>\n",
       "      <td>...</td>\n",
       "      <td>...</td>\n",
       "      <td>...</td>\n",
       "      <td>...</td>\n",
       "      <td>...</td>\n",
       "      <td>...</td>\n",
       "      <td>...</td>\n",
       "      <td>...</td>\n",
       "      <td>...</td>\n",
       "      <td>...</td>\n",
       "      <td>...</td>\n",
       "      <td>...</td>\n",
       "    </tr>\n",
       "    <tr>\n",
       "      <th>2177</th>\n",
       "      <td>0.0</td>\n",
       "      <td>0.0</td>\n",
       "      <td>0.0</td>\n",
       "      <td>0.0</td>\n",
       "      <td>0.0</td>\n",
       "      <td>0.0</td>\n",
       "      <td>0.0</td>\n",
       "      <td>0.0</td>\n",
       "      <td>0.0</td>\n",
       "      <td>0.0</td>\n",
       "      <td>...</td>\n",
       "      <td>0.0</td>\n",
       "      <td>0.0</td>\n",
       "      <td>0.0</td>\n",
       "      <td>0.0</td>\n",
       "      <td>0.0</td>\n",
       "      <td>0.0</td>\n",
       "      <td>0.0</td>\n",
       "      <td>0.0</td>\n",
       "      <td>0.0</td>\n",
       "      <td>0.0</td>\n",
       "    </tr>\n",
       "    <tr>\n",
       "      <th>2178</th>\n",
       "      <td>0.0</td>\n",
       "      <td>0.0</td>\n",
       "      <td>0.0</td>\n",
       "      <td>0.0</td>\n",
       "      <td>0.0</td>\n",
       "      <td>0.0</td>\n",
       "      <td>0.0</td>\n",
       "      <td>0.0</td>\n",
       "      <td>0.0</td>\n",
       "      <td>0.0</td>\n",
       "      <td>...</td>\n",
       "      <td>0.0</td>\n",
       "      <td>0.0</td>\n",
       "      <td>0.0</td>\n",
       "      <td>0.0</td>\n",
       "      <td>0.0</td>\n",
       "      <td>0.0</td>\n",
       "      <td>0.0</td>\n",
       "      <td>0.0</td>\n",
       "      <td>0.0</td>\n",
       "      <td>0.0</td>\n",
       "    </tr>\n",
       "    <tr>\n",
       "      <th>2179</th>\n",
       "      <td>0.0</td>\n",
       "      <td>0.0</td>\n",
       "      <td>0.0</td>\n",
       "      <td>0.0</td>\n",
       "      <td>0.0</td>\n",
       "      <td>0.0</td>\n",
       "      <td>0.0</td>\n",
       "      <td>0.0</td>\n",
       "      <td>0.0</td>\n",
       "      <td>0.0</td>\n",
       "      <td>...</td>\n",
       "      <td>0.0</td>\n",
       "      <td>0.0</td>\n",
       "      <td>0.0</td>\n",
       "      <td>0.0</td>\n",
       "      <td>0.0</td>\n",
       "      <td>0.0</td>\n",
       "      <td>0.0</td>\n",
       "      <td>7.0</td>\n",
       "      <td>0.0</td>\n",
       "      <td>0.0</td>\n",
       "    </tr>\n",
       "    <tr>\n",
       "      <th>2180</th>\n",
       "      <td>0.0</td>\n",
       "      <td>0.0</td>\n",
       "      <td>0.0</td>\n",
       "      <td>0.0</td>\n",
       "      <td>0.0</td>\n",
       "      <td>0.0</td>\n",
       "      <td>0.0</td>\n",
       "      <td>0.0</td>\n",
       "      <td>0.0</td>\n",
       "      <td>0.0</td>\n",
       "      <td>...</td>\n",
       "      <td>0.0</td>\n",
       "      <td>0.0</td>\n",
       "      <td>0.0</td>\n",
       "      <td>0.0</td>\n",
       "      <td>0.0</td>\n",
       "      <td>0.0</td>\n",
       "      <td>0.0</td>\n",
       "      <td>0.0</td>\n",
       "      <td>0.0</td>\n",
       "      <td>0.0</td>\n",
       "    </tr>\n",
       "    <tr>\n",
       "      <th>2181</th>\n",
       "      <td>0.0</td>\n",
       "      <td>0.0</td>\n",
       "      <td>0.0</td>\n",
       "      <td>0.0</td>\n",
       "      <td>0.0</td>\n",
       "      <td>0.0</td>\n",
       "      <td>0.0</td>\n",
       "      <td>0.0</td>\n",
       "      <td>0.0</td>\n",
       "      <td>0.0</td>\n",
       "      <td>...</td>\n",
       "      <td>0.0</td>\n",
       "      <td>0.0</td>\n",
       "      <td>0.0</td>\n",
       "      <td>0.0</td>\n",
       "      <td>0.0</td>\n",
       "      <td>0.0</td>\n",
       "      <td>0.0</td>\n",
       "      <td>0.0</td>\n",
       "      <td>0.0</td>\n",
       "      <td>0.0</td>\n",
       "    </tr>\n",
       "  </tbody>\n",
       "</table>\n",
       "<p>2182 rows × 9659 columns</p>\n",
       "</div>"
      ],
      "text/plain": [
       "booktitle   Jason, Madison &amp   Other Stories;Merril;1985;McClelland &amp  \\\n",
       "0                           0.0                                         0.0   \n",
       "1                           0.0                                         0.0   \n",
       "2                           0.0                                         0.0   \n",
       "3                           0.0                                         0.0   \n",
       "4                           0.0                                         0.0   \n",
       "...                         ...                                         ...   \n",
       "2177                        0.0                                         0.0   \n",
       "2178                        0.0                                         0.0   \n",
       "2179                        0.0                                         0.0   \n",
       "2180                        0.0                                         0.0   \n",
       "2181                        0.0                                         0.0   \n",
       "\n",
       "booktitle   Repairing PC Drives &amp  '48  \\\n",
       "0                                0.0  0.0   \n",
       "1                                0.0  0.0   \n",
       "2                                0.0  0.0   \n",
       "3                                0.0  0.0   \n",
       "4                                0.0  0.0   \n",
       "...                              ...  ...   \n",
       "2177                             0.0  0.0   \n",
       "2178                             0.0  0.0   \n",
       "2179                             0.0  0.0   \n",
       "2180                             0.0  0.0   \n",
       "2181                             0.0  0.0   \n",
       "\n",
       "booktitle  'O Au No Keia: Voices from Hawai'I's Mahu and Transgender Communities  \\\n",
       "0                                                        0.0                       \n",
       "1                                                        0.0                       \n",
       "2                                                        0.0                       \n",
       "3                                                        0.0                       \n",
       "4                                                        0.0                       \n",
       "...                                                      ...                       \n",
       "2177                                                     0.0                       \n",
       "2178                                                     0.0                       \n",
       "2179                                                     0.0                       \n",
       "2180                                                     0.0                       \n",
       "2181                                                     0.0                       \n",
       "\n",
       "booktitle  ...AND THE HORSE HE RODE IN ON : THE PEOPLE V. KENNETH STARR  \\\n",
       "0                                                        0.0              \n",
       "1                                                        0.0              \n",
       "2                                                        0.0              \n",
       "3                                                        0.0              \n",
       "4                                                        0.0              \n",
       "...                                                      ...              \n",
       "2177                                                     0.0              \n",
       "2178                                                     0.0              \n",
       "2179                                                     0.0              \n",
       "2180                                                     0.0              \n",
       "2181                                                     0.0              \n",
       "\n",
       "booktitle  01-01-00: A Novel of the Millennium  \\\n",
       "0                                          0.0   \n",
       "1                                          0.0   \n",
       "2                                          0.0   \n",
       "3                                          0.0   \n",
       "4                                          0.0   \n",
       "...                                        ...   \n",
       "2177                                       0.0   \n",
       "2178                                       0.0   \n",
       "2179                                       0.0   \n",
       "2180                                       0.0   \n",
       "2181                                       0.0   \n",
       "\n",
       "booktitle  1,401 More Things That P*Ss Me Off  10 Commandments Of Dating  \\\n",
       "0                                         0.0                        0.0   \n",
       "1                                         0.0                        0.0   \n",
       "2                                         0.0                        0.0   \n",
       "3                                         0.0                        0.0   \n",
       "4                                         0.0                        0.0   \n",
       "...                                       ...                        ...   \n",
       "2177                                      0.0                        0.0   \n",
       "2178                                      0.0                        0.0   \n",
       "2179                                      0.0                        0.0   \n",
       "2180                                      0.0                        0.0   \n",
       "2181                                      0.0                        0.0   \n",
       "\n",
       "booktitle  100 Great Fantasy Short, Short Stories  ...  \\\n",
       "0                                             0.0  ...   \n",
       "1                                             0.0  ...   \n",
       "2                                             0.0  ...   \n",
       "3                                             0.0  ...   \n",
       "4                                             0.0  ...   \n",
       "...                                           ...  ...   \n",
       "2177                                          0.0  ...   \n",
       "2178                                          0.0  ...   \n",
       "2179                                          0.0  ...   \n",
       "2180                                          0.0  ...   \n",
       "2181                                          0.0  ...   \n",
       "\n",
       "booktitle  Zora Hurston and the Chinaberry Tree (Reading Rainbow Book)  \\\n",
       "0                                                        0.0             \n",
       "1                                                        0.0             \n",
       "2                                                        0.0             \n",
       "3                                                        0.0             \n",
       "4                                                        0.0             \n",
       "...                                                      ...             \n",
       "2177                                                     0.0             \n",
       "2178                                                     0.0             \n",
       "2179                                                     0.0             \n",
       "2180                                                     0.0             \n",
       "2181                                                     0.0             \n",
       "\n",
       "booktitle  \\Even Monkeys Fall from Trees\\ and Other Japanese Proverbs  \\\n",
       "0                                                        0.0            \n",
       "1                                                        0.0            \n",
       "2                                                        0.0            \n",
       "3                                                        0.0            \n",
       "4                                                        0.0            \n",
       "...                                                      ...            \n",
       "2177                                                     0.0            \n",
       "2178                                                     0.0            \n",
       "2179                                                     0.0            \n",
       "2180                                                     0.0            \n",
       "2181                                                     0.0            \n",
       "\n",
       "booktitle  \\I Won't Learn from You\\: And Other Thoughts on Creative Maladjustment  \\\n",
       "0                                                        0.0                        \n",
       "1                                                        0.0                        \n",
       "2                                                        0.0                        \n",
       "3                                                        0.0                        \n",
       "4                                                        0.0                        \n",
       "...                                                      ...                        \n",
       "2177                                                     0.0                        \n",
       "2178                                                     0.0                        \n",
       "2179                                                     0.0                        \n",
       "2180                                                     0.0                        \n",
       "2181                                                     0.0                        \n",
       "\n",
       "booktitle  \\More More More,\\ Said the Baby  \\O\\ Is for Outlaw  \\\n",
       "0                                      0.0                0.0   \n",
       "1                                      0.0                0.0   \n",
       "2                                      0.0                0.0   \n",
       "3                                      0.0                0.0   \n",
       "4                                      0.0                0.0   \n",
       "...                                    ...                ...   \n",
       "2177                                   0.0                0.0   \n",
       "2178                                   0.0                0.0   \n",
       "2179                                   0.0                0.0   \n",
       "2180                                   0.0                0.0   \n",
       "2181                                   0.0                0.0   \n",
       "\n",
       "booktitle  \\Surely You're Joking, Mr. Feynman!\\: Adventures of a Curious Character  \\\n",
       "0                                                        0.0                         \n",
       "1                                                        0.0                         \n",
       "2                                                        0.0                         \n",
       "3                                                        0.0                         \n",
       "4                                                        0.0                         \n",
       "...                                                      ...                         \n",
       "2177                                                     0.0                         \n",
       "2178                                                     0.0                         \n",
       "2179                                                     0.0                         \n",
       "2180                                                     0.0                         \n",
       "2181                                                     0.0                         \n",
       "\n",
       "booktitle  \\Well, there's your problem\\: Cartoons  iI Paradiso Degli Orchi  \\\n",
       "0                                             0.0                      0.0   \n",
       "1                                             0.0                      0.0   \n",
       "2                                             0.0                      0.0   \n",
       "3                                             0.0                      0.0   \n",
       "4                                             0.0                      0.0   \n",
       "...                                           ...                      ...   \n",
       "2177                                          0.0                      0.0   \n",
       "2178                                          0.0                      0.0   \n",
       "2179                                          0.0                      7.0   \n",
       "2180                                          0.0                      0.0   \n",
       "2181                                          0.0                      0.0   \n",
       "\n",
       "booktitle  stardust  Ã?Â?bermorgen.  \n",
       "0               0.0             0.0  \n",
       "1               0.0             0.0  \n",
       "2               0.0             0.0  \n",
       "3               0.0             0.0  \n",
       "4               0.0             0.0  \n",
       "...             ...             ...  \n",
       "2177            0.0             0.0  \n",
       "2178            0.0             0.0  \n",
       "2179            0.0             0.0  \n",
       "2180            0.0             0.0  \n",
       "2181            0.0             0.0  \n",
       "\n",
       "[2182 rows x 9659 columns]"
      ]
     },
     "execution_count": 18,
     "metadata": {},
     "output_type": "execute_result"
    }
   ],
   "source": [
    "#Impute those NaNs with 0 values\n",
    "user_book_dt.fillna(0, inplace=True)\n",
    "user_book_dt"
   ]
  },
  {
   "cell_type": "code",
   "execution_count": 19,
   "metadata": {
    "ExecuteTime": {
     "end_time": "2021-01-25T12:46:54.966951Z",
     "start_time": "2021-01-25T12:46:54.629478Z"
    }
   },
   "outputs": [
    {
     "name": "stdout",
     "output_type": "stream",
     "text": [
      "7.5663\n"
     ]
    }
   ],
   "source": [
    "C = data['rating'].mean()\n",
    "print(C)"
   ]
  },
  {
   "cell_type": "code",
   "execution_count": 20,
   "metadata": {
    "ExecuteTime": {
     "end_time": "2021-01-25T12:46:55.648810Z",
     "start_time": "2021-01-25T12:46:55.434866Z"
    }
   },
   "outputs": [
    {
     "name": "stdout",
     "output_type": "stream",
     "text": [
      "10.0\n"
     ]
    }
   ],
   "source": [
    "# Calculate the minimum number of votes required to be in the chart, m\n",
    "m = data['rating'].quantile(0.90)\n",
    "print(m)"
   ]
  },
  {
   "cell_type": "code",
   "execution_count": 21,
   "metadata": {
    "ExecuteTime": {
     "end_time": "2021-01-25T12:46:56.329432Z",
     "start_time": "2021-01-25T12:46:56.282880Z"
    }
   },
   "outputs": [
    {
     "data": {
      "text/plain": [
       "(1732, 4)"
      ]
     },
     "execution_count": 21,
     "metadata": {},
     "output_type": "execute_result"
    }
   ],
   "source": [
    "# Filter out all qualified Books into a new DataFrame\n",
    "q_Books = data.copy().loc[data['rating'] >= m]\n",
    "q_Books.shape"
   ]
  },
  {
   "cell_type": "code",
   "execution_count": 22,
   "metadata": {
    "ExecuteTime": {
     "end_time": "2021-01-25T12:47:18.731414Z",
     "start_time": "2021-01-25T12:46:56.970584Z"
    }
   },
   "outputs": [],
   "source": [
    "#Calculating Cosine Similarity between Users\n",
    "from sklearn.metrics import pairwise_distances\n",
    "from scipy.spatial.distance import cosine, correlation"
   ]
  },
  {
   "cell_type": "code",
   "execution_count": 23,
   "metadata": {
    "ExecuteTime": {
     "end_time": "2021-01-25T12:47:27.978341Z",
     "start_time": "2021-01-25T12:47:22.832677Z"
    }
   },
   "outputs": [
    {
     "data": {
      "text/plain": [
       "(2182, 2182)"
      ]
     },
     "execution_count": 23,
     "metadata": {},
     "output_type": "execute_result"
    }
   ],
   "source": [
    "user_sim = 1 - pairwise_distances( user_book_dt.values,metric='cosine')\n",
    "user_sim.shape"
   ]
  },
  {
   "cell_type": "code",
   "execution_count": 24,
   "metadata": {
    "ExecuteTime": {
     "end_time": "2021-01-25T12:47:29.027037Z",
     "start_time": "2021-01-25T12:47:29.006041Z"
    }
   },
   "outputs": [
    {
     "data": {
      "text/plain": [
       "array([0., 1., 0., ..., 0., 0., 0.])"
      ]
     },
     "execution_count": 24,
     "metadata": {},
     "output_type": "execute_result"
    }
   ],
   "source": [
    "user_sim[1]"
   ]
  },
  {
   "cell_type": "code",
   "execution_count": 25,
   "metadata": {
    "ExecuteTime": {
     "end_time": "2021-01-25T12:47:30.200937Z",
     "start_time": "2021-01-25T12:47:29.670439Z"
    }
   },
   "outputs": [],
   "source": [
    "#Store the results in a dataframe\n",
    "user_sim = pd.DataFrame(user_sim)\n",
    "user_sim.index = book_data.userid.unique()\n",
    "user_sim.columns = book_data.userid.unique()"
   ]
  },
  {
   "cell_type": "code",
   "execution_count": 26,
   "metadata": {
    "ExecuteTime": {
     "end_time": "2021-01-25T12:47:30.937356Z",
     "start_time": "2021-01-25T12:47:30.851954Z"
    }
   },
   "outputs": [
    {
     "data": {
      "text/html": [
       "<div>\n",
       "<style scoped>\n",
       "    .dataframe tbody tr th:only-of-type {\n",
       "        vertical-align: middle;\n",
       "    }\n",
       "\n",
       "    .dataframe tbody tr th {\n",
       "        vertical-align: top;\n",
       "    }\n",
       "\n",
       "    .dataframe thead th {\n",
       "        text-align: right;\n",
       "    }\n",
       "</style>\n",
       "<table border=\"1\" class=\"dataframe\">\n",
       "  <thead>\n",
       "    <tr style=\"text-align: right;\">\n",
       "      <th></th>\n",
       "      <th>276726</th>\n",
       "      <th>276729</th>\n",
       "      <th>276736</th>\n",
       "      <th>276737</th>\n",
       "      <th>276744</th>\n",
       "      <th>276745</th>\n",
       "      <th>276747</th>\n",
       "      <th>276748</th>\n",
       "      <th>276751</th>\n",
       "      <th>276754</th>\n",
       "    </tr>\n",
       "  </thead>\n",
       "  <tbody>\n",
       "    <tr>\n",
       "      <th>276726</th>\n",
       "      <td>1.0</td>\n",
       "      <td>0.0</td>\n",
       "      <td>0.0</td>\n",
       "      <td>0.0</td>\n",
       "      <td>0.0</td>\n",
       "      <td>0.0</td>\n",
       "      <td>0.0</td>\n",
       "      <td>0.0</td>\n",
       "      <td>0.0</td>\n",
       "      <td>0.0</td>\n",
       "    </tr>\n",
       "    <tr>\n",
       "      <th>276729</th>\n",
       "      <td>0.0</td>\n",
       "      <td>1.0</td>\n",
       "      <td>0.0</td>\n",
       "      <td>0.0</td>\n",
       "      <td>0.0</td>\n",
       "      <td>0.0</td>\n",
       "      <td>0.0</td>\n",
       "      <td>0.0</td>\n",
       "      <td>0.0</td>\n",
       "      <td>0.0</td>\n",
       "    </tr>\n",
       "    <tr>\n",
       "      <th>276736</th>\n",
       "      <td>0.0</td>\n",
       "      <td>0.0</td>\n",
       "      <td>1.0</td>\n",
       "      <td>0.0</td>\n",
       "      <td>0.0</td>\n",
       "      <td>0.0</td>\n",
       "      <td>0.0</td>\n",
       "      <td>0.0</td>\n",
       "      <td>0.0</td>\n",
       "      <td>0.0</td>\n",
       "    </tr>\n",
       "    <tr>\n",
       "      <th>276737</th>\n",
       "      <td>0.0</td>\n",
       "      <td>0.0</td>\n",
       "      <td>0.0</td>\n",
       "      <td>1.0</td>\n",
       "      <td>0.0</td>\n",
       "      <td>0.0</td>\n",
       "      <td>0.0</td>\n",
       "      <td>0.0</td>\n",
       "      <td>0.0</td>\n",
       "      <td>0.0</td>\n",
       "    </tr>\n",
       "    <tr>\n",
       "      <th>276744</th>\n",
       "      <td>0.0</td>\n",
       "      <td>0.0</td>\n",
       "      <td>0.0</td>\n",
       "      <td>0.0</td>\n",
       "      <td>1.0</td>\n",
       "      <td>0.0</td>\n",
       "      <td>0.0</td>\n",
       "      <td>0.0</td>\n",
       "      <td>0.0</td>\n",
       "      <td>0.0</td>\n",
       "    </tr>\n",
       "    <tr>\n",
       "      <th>276745</th>\n",
       "      <td>0.0</td>\n",
       "      <td>0.0</td>\n",
       "      <td>0.0</td>\n",
       "      <td>0.0</td>\n",
       "      <td>0.0</td>\n",
       "      <td>1.0</td>\n",
       "      <td>0.0</td>\n",
       "      <td>0.0</td>\n",
       "      <td>0.0</td>\n",
       "      <td>0.0</td>\n",
       "    </tr>\n",
       "    <tr>\n",
       "      <th>276747</th>\n",
       "      <td>0.0</td>\n",
       "      <td>0.0</td>\n",
       "      <td>0.0</td>\n",
       "      <td>0.0</td>\n",
       "      <td>0.0</td>\n",
       "      <td>0.0</td>\n",
       "      <td>1.0</td>\n",
       "      <td>0.0</td>\n",
       "      <td>0.0</td>\n",
       "      <td>0.0</td>\n",
       "    </tr>\n",
       "    <tr>\n",
       "      <th>276748</th>\n",
       "      <td>0.0</td>\n",
       "      <td>0.0</td>\n",
       "      <td>0.0</td>\n",
       "      <td>0.0</td>\n",
       "      <td>0.0</td>\n",
       "      <td>0.0</td>\n",
       "      <td>0.0</td>\n",
       "      <td>1.0</td>\n",
       "      <td>0.0</td>\n",
       "      <td>0.0</td>\n",
       "    </tr>\n",
       "    <tr>\n",
       "      <th>276751</th>\n",
       "      <td>0.0</td>\n",
       "      <td>0.0</td>\n",
       "      <td>0.0</td>\n",
       "      <td>0.0</td>\n",
       "      <td>0.0</td>\n",
       "      <td>0.0</td>\n",
       "      <td>0.0</td>\n",
       "      <td>0.0</td>\n",
       "      <td>1.0</td>\n",
       "      <td>0.0</td>\n",
       "    </tr>\n",
       "    <tr>\n",
       "      <th>276754</th>\n",
       "      <td>0.0</td>\n",
       "      <td>0.0</td>\n",
       "      <td>0.0</td>\n",
       "      <td>0.0</td>\n",
       "      <td>0.0</td>\n",
       "      <td>0.0</td>\n",
       "      <td>0.0</td>\n",
       "      <td>0.0</td>\n",
       "      <td>0.0</td>\n",
       "      <td>1.0</td>\n",
       "    </tr>\n",
       "  </tbody>\n",
       "</table>\n",
       "</div>"
      ],
      "text/plain": [
       "        276726  276729  276736  276737  276744  276745  276747  276748  \\\n",
       "276726     1.0     0.0     0.0     0.0     0.0     0.0     0.0     0.0   \n",
       "276729     0.0     1.0     0.0     0.0     0.0     0.0     0.0     0.0   \n",
       "276736     0.0     0.0     1.0     0.0     0.0     0.0     0.0     0.0   \n",
       "276737     0.0     0.0     0.0     1.0     0.0     0.0     0.0     0.0   \n",
       "276744     0.0     0.0     0.0     0.0     1.0     0.0     0.0     0.0   \n",
       "276745     0.0     0.0     0.0     0.0     0.0     1.0     0.0     0.0   \n",
       "276747     0.0     0.0     0.0     0.0     0.0     0.0     1.0     0.0   \n",
       "276748     0.0     0.0     0.0     0.0     0.0     0.0     0.0     1.0   \n",
       "276751     0.0     0.0     0.0     0.0     0.0     0.0     0.0     0.0   \n",
       "276754     0.0     0.0     0.0     0.0     0.0     0.0     0.0     0.0   \n",
       "\n",
       "        276751  276754  \n",
       "276726     0.0     0.0  \n",
       "276729     0.0     0.0  \n",
       "276736     0.0     0.0  \n",
       "276737     0.0     0.0  \n",
       "276744     0.0     0.0  \n",
       "276745     0.0     0.0  \n",
       "276747     0.0     0.0  \n",
       "276748     0.0     0.0  \n",
       "276751     1.0     0.0  \n",
       "276754     0.0     1.0  "
      ]
     },
     "execution_count": 26,
     "metadata": {},
     "output_type": "execute_result"
    }
   ],
   "source": [
    "user_sim.iloc[0:10, 0:10]"
   ]
  },
  {
   "cell_type": "code",
   "execution_count": 27,
   "metadata": {
    "ExecuteTime": {
     "end_time": "2021-01-25T12:47:32.233348Z",
     "start_time": "2021-01-25T12:47:31.783873Z"
    }
   },
   "outputs": [
    {
     "data": {
      "text/plain": [
       "276726    276726\n",
       "276729    276729\n",
       "276736    276736\n",
       "276737    276737\n",
       "276744    276744\n",
       "           ...  \n",
       "277139    277139\n",
       "277143    277143\n",
       "277157    277157\n",
       "277159    277159\n",
       "277165    277165\n",
       "Length: 125, dtype: int64"
      ]
     },
     "execution_count": 27,
     "metadata": {},
     "output_type": "execute_result"
    }
   ],
   "source": [
    "user_sim.idxmax(axis=1)[0:125]"
   ]
  },
  {
   "cell_type": "code",
   "execution_count": 28,
   "metadata": {
    "ExecuteTime": {
     "end_time": "2021-01-25T12:47:33.335167Z",
     "start_time": "2021-01-25T12:47:33.088334Z"
    }
   },
   "outputs": [],
   "source": [
    "indices = pd.Series(book_data.index, index=book_data['booktitle']).drop_duplicates()"
   ]
  },
  {
   "cell_type": "code",
   "execution_count": 29,
   "metadata": {
    "ExecuteTime": {
     "end_time": "2021-01-25T12:47:33.952188Z",
     "start_time": "2021-01-25T12:47:33.940187Z"
    }
   },
   "outputs": [
    {
     "data": {
      "text/plain": [
       "booktitle\n",
       "Classical Mythology                                                                                   0\n",
       "Clara Callan                                                                                          1\n",
       "Decision in Normandy                                                                                  2\n",
       "Flu: The Story of the Great Influenza Pandemic of 1918 and the Search for the Virus That Caused It    3\n",
       "The Mummies of Urumchi                                                                                4\n",
       "The Kitchen God's Wife                                                                                5\n",
       "What If?: The World's Foremost Military Historians Imagine What Might Have Been                       6\n",
       "PLEADING GUILTY                                                                                       7\n",
       "Under the Black Flag: The Romance and the Reality of Life Among the Pirates                           8\n",
       "Where You'll Find Me: And Other Stories                                                               9\n",
       "dtype: int64"
      ]
     },
     "execution_count": 29,
     "metadata": {},
     "output_type": "execute_result"
    }
   ],
   "source": [
    "indices[:10]"
   ]
  },
  {
   "cell_type": "code",
   "execution_count": 30,
   "metadata": {
    "ExecuteTime": {
     "end_time": "2021-01-25T12:47:35.439612Z",
     "start_time": "2021-01-25T12:47:35.413600Z"
    }
   },
   "outputs": [],
   "source": [
    "# Function that takes in book title as input and outputs most similar books\n",
    "def get_recommendations(booktitle, cosine_sim=user_sim):\n",
    "    # Get the index of the books that matches the title\n",
    "    idx = indices[booktitle]\n",
    "\n",
    "    # Get the pairwsie similarity scores of all books with that books\n",
    "    sim_scores = list(enumerate(cosine_sim[idx]))\n",
    "\n",
    "    # Sort the books based on the similarity scores\n",
    "    sim_scores = sorted(sim_scores, key=lambda x: x[1], reverse=True)\n",
    "\n",
    "    # Get the scores of the 10 most similar books\n",
    "    sim_scores = sim_scores[0:11]\n",
    "\n",
    "    # Get the book indices\n",
    "    books_indices = [i[0] for i in sim_scores]\n",
    "\n",
    "    # Return the top 10 most similar books\n",
    "    return book_data['booktitle'].iloc[books_indices]"
   ]
  },
  {
   "cell_type": "markdown",
   "metadata": {},
   "source": [
    "## Recomending books based on book titles"
   ]
  },
  {
   "cell_type": "code",
   "execution_count": 31,
   "metadata": {
    "ExecuteTime": {
     "end_time": "2021-01-25T12:48:03.117591Z",
     "start_time": "2021-01-25T12:48:02.876844Z"
    }
   },
   "outputs": [
    {
     "data": {
      "text/plain": [
       "625                       My Garden (Beginning Literacy)\n",
       "0                                    Classical Mythology\n",
       "1                                           Clara Callan\n",
       "2                                   Decision in Normandy\n",
       "3      Flu: The Story of the Great Influenza Pandemic...\n",
       "4                                 The Mummies of Urumchi\n",
       "5                                 The Kitchen God's Wife\n",
       "6      What If?: The World's Foremost Military Histor...\n",
       "7                                        PLEADING GUILTY\n",
       "8      Under the Black Flag: The Romance and the Real...\n",
       "9                Where You'll Find Me: And Other Stories\n",
       "Name: booktitle, dtype: object"
      ]
     },
     "execution_count": 31,
     "metadata": {},
     "output_type": "execute_result"
    }
   ],
   "source": [
    "get_recommendations('Under the Black Flag: The Romance and the Reality of Life Among the Pirates')"
   ]
  },
  {
   "cell_type": "code",
   "execution_count": 32,
   "metadata": {
    "ExecuteTime": {
     "end_time": "2021-01-25T12:48:04.113553Z",
     "start_time": "2021-01-25T12:48:04.099556Z"
    }
   },
   "outputs": [
    {
     "data": {
      "text/plain": [
       "626                                       101 Dalmatians\n",
       "0                                    Classical Mythology\n",
       "1                                           Clara Callan\n",
       "2                                   Decision in Normandy\n",
       "3      Flu: The Story of the Great Influenza Pandemic...\n",
       "4                                 The Mummies of Urumchi\n",
       "5                                 The Kitchen God's Wife\n",
       "6      What If?: The World's Foremost Military Histor...\n",
       "7                                        PLEADING GUILTY\n",
       "8      Under the Black Flag: The Romance and the Real...\n",
       "9                Where You'll Find Me: And Other Stories\n",
       "Name: booktitle, dtype: object"
      ]
     },
     "execution_count": 32,
     "metadata": {},
     "output_type": "execute_result"
    }
   ],
   "source": [
    "get_recommendations(\"Where You'll Find Me: And Other Stories\")"
   ]
  },
  {
   "cell_type": "code",
   "execution_count": 38,
   "metadata": {
    "ExecuteTime": {
     "end_time": "2021-01-25T12:54:42.019278Z",
     "start_time": "2021-01-25T12:54:41.239810Z"
    }
   },
   "outputs": [],
   "source": [
    "ratings_mean_count = pd.DataFrame(book_data.groupby('booktitle')['rating'].mean())\n",
    "ratings_mean_count['rating_counts'] = pd.DataFrame(book_data.groupby('booktitle')['rating'].count())"
   ]
  },
  {
   "cell_type": "code",
   "execution_count": 39,
   "metadata": {
    "ExecuteTime": {
     "end_time": "2021-01-25T12:55:18.660144Z",
     "start_time": "2021-01-25T12:54:58.845818Z"
    }
   },
   "outputs": [
    {
     "data": {
      "text/plain": [
       "<matplotlib.axes._subplots.AxesSubplot at 0x166cbc08580>"
      ]
     },
     "execution_count": 39,
     "metadata": {},
     "output_type": "execute_result"
    },
    {
     "data": {
      "image/png": "[encoded data removed]",
      "text/plain": [
       "<Figure size 576x432 with 1 Axes>"
      ]
     },
     "metadata": {
      "needs_background": "light"
     },
     "output_type": "display_data"
    }
   ],
   "source": [
    "import seaborn as sns\n",
    "sns.set_style('dark')\n",
    "%matplotlib inline\n",
    "\n",
    "plt.figure(figsize=(8,6))\n",
    "plt.rcParams['patch.force_edgecolor'] = True\n",
    "ratings_mean_count['rating_counts'].hist(bins=10)"
   ]
  },
  {
   "cell_type": "code",
   "execution_count": 42,
   "metadata": {
    "ExecuteTime": {
     "end_time": "2021-01-25T12:55:41.975281Z",
     "start_time": "2021-01-25T12:55:41.394364Z"
    }
   },
   "outputs": [
    {
     "data": {
      "text/plain": [
       "<matplotlib.axes._subplots.AxesSubplot at 0x166cbf8a640>"
      ]
     },
     "execution_count": 42,
     "metadata": {},
     "output_type": "execute_result"
    },
    {
     "data": {
      "image/png": "[encoded data removed]",
      "text/plain": [
       "<Figure size 576x432 with 1 Axes>"
      ]
     },
     "metadata": {
      "needs_background": "light"
     },
     "output_type": "display_data"
    }
   ],
   "source": [
    "plt.figure(figsize=(8,6))\n",
    "plt.rcParams['patch.force_edgecolor'] = True\n",
    "ratings_mean_count['rating'].hist(bins=10)"
   ]
  },
  {
   "cell_type": "code",
   "execution_count": null,
   "metadata": {},
   "outputs": [],
   "source": []
  }
 ],
 "metadata": {
  "kernelspec": {
   "display_name": "Python 3",
   "language": "python",
   "name": "python3"
  },
  "language_info": {
   "codemirror_mode": {
    "name": "ipython",
    "version": 3
   },
   "file_extension": ".py",
   "mimetype": "text/x-python",
   "name": "python",
   "nbconvert_exporter": "python",
   "pygments_lexer": "ipython3",
   "version": "3.8.3"
  },
  "varInspector": {
   "cols": {
    "lenName": 16,
    "lenType": 16,
    "lenVar": 40
   },
   "kernels_config": {
    "python": {
     "delete_cmd_postfix": "",
     "delete_cmd_prefix": "del ",
     "library": "var_list.py",
     "varRefreshCmd": "print(var_dic_list())"
    },
    "r": {
     "delete_cmd_postfix": ") ",
     "delete_cmd_prefix": "rm(",
     "library": "var_list.r",
     "varRefreshCmd": "cat(var_dic_list()) "
    }
   },
   "types_to_exclude": [
    "module",
    "function",
    "builtin_function_or_method",
    "instance",
    "_Feature"
   ],
   "window_display": false
  }
 },
 "nbformat": 4,
 "nbformat_minor": 4
}
